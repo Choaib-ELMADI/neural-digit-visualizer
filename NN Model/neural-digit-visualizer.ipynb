{
 "cells": [
  {
   "cell_type": "markdown",
   "metadata": {},
   "source": [
    "# Neural Digit Visualizer"
   ]
  },
  {
   "cell_type": "markdown",
   "metadata": {},
   "source": [
    "## 0. Libraries"
   ]
  },
  {
   "cell_type": "code",
   "execution_count": 1,
   "metadata": {
    "deletable": false,
    "editable": false
   },
   "outputs": [],
   "source": [
    "import numpy as np\n",
    "import matplotlib.pyplot as plt\n",
    "\n",
    "import tensorflow as tf\n",
    "from tensorflow.keras.models import Sequential # type: ignore\n",
    "from tensorflow.keras.layers import Dense  # type: ignore\n",
    "\n",
    "from utils import *\n",
    "\n",
    "import logging\n",
    "import warnings\n",
    "\n",
    "np.set_printoptions(precision=2)\n",
    "tf.autograph.set_verbosity(0)\n",
    "tf.random.set_seed(1234)\n",
    "logging.getLogger(\"tensorflow\").setLevel(logging.ERROR)\n",
    "warnings.simplefilter(action=\"ignore\", category=FutureWarning)"
   ]
  },
  {
   "cell_type": "markdown",
   "metadata": {
    "tags": []
   },
   "source": [
    "## 1. Problem Statement\n",
    "\n",
    "In this project, we will build a neural network to recognize ten handwritten digits, `0-9`. This is a multiclass classification task where one of n choices is selected. Automated handwritten digit recognition is widely used today, from recognizing zip codes (postal codes) on mail envelopes to identifying amounts written on bank checks.\n",
    "\n",
    "## 2. Dataset\n",
    "\n",
    "We will start by loading the dataset for this task.\n",
    "\n",
    "- The first part of the training set is a 400-dimensional vector `X` that contains the input features for the training set:\n",
    "    - Each training example is a 20x20 pixels grayscale image of the digit.\n",
    "    - Each pixel is represented by a `1` or a `0` number indicating the intensity at that location.\n",
    "    - The 20 by 20 grid of pixels is unrolled into a 400-dimensional vector.\n",
    "\n",
    "- The second part of the training set is a 1-dimensional vector `y` that contains labels for the training set:\n",
    "    - `y = 0` if the image is of the digit `0`, `y = 4` if the image is of the digit `4` and so on.\n",
    "    - `y = 10` if the grid is empty."
   ]
  },
  {
   "cell_type": "code",
   "execution_count": 2,
   "metadata": {
    "deletable": false,
    "editable": false
   },
   "outputs": [],
   "source": [
    "X, y = load_data()"
   ]
  },
  {
   "cell_type": "code",
   "execution_count": null,
   "metadata": {
    "deletable": false,
    "editable": false,
    "scrolled": true
   },
   "outputs": [],
   "source": [
    "print(type(X))\n",
    "print(type(y))\n",
    "\n",
    "print(X.shape)\n",
    "print(y.shape)"
   ]
  },
  {
   "cell_type": "markdown",
   "metadata": {},
   "source": [
    "## 3. Visualizing the Data\n",
    "\n",
    "Let's begin by visualizing a subset of the training set.\n",
    "\n",
    "In the cell below, the code randomly selects 8 rows from `X`, maps each row back to a 20x20 pixels grayscale image and displays the images together.\n",
    "\n",
    "The label for each image is displayed above the image."
   ]
  },
  {
   "cell_type": "code",
   "execution_count": null,
   "metadata": {
    "deletable": false,
    "editable": false
   },
   "outputs": [],
   "source": [
    "m, n = X.shape\n",
    "\n",
    "fig, axes = plt.subplots(2, 4, figsize=(10, 5))\n",
    "fig.tight_layout(pad=1)\n",
    "\n",
    "for i, ax in enumerate(axes.flat):\n",
    "    random_index = np.random.randint(m)\n",
    "\n",
    "    X_random_reshaped = X[random_index].reshape((20, 20))\n",
    "    ax.imshow(X_random_reshaped, cmap='gray')\n",
    "\n",
    "    ax.set_title(y[random_index])\n",
    "    ax.set_axis_off()"
   ]
  },
  {
   "cell_type": "markdown",
   "metadata": {},
   "source": [
    "## 4. Model Representation\n",
    "\n",
    "The neural network we are building is shown in the figure below.\n",
    "\n",
    "This has the following structure:\n",
    "- Two dense layers with ReLU activations\n",
    "- An output layer with a linear activation\n",
    "\n",
    "<center>\n",
    "    <img src=\"./Images/model-representation.png\" alt=\"Model Representation\" height=\"300\" />\n",
    "</center>"
   ]
  },
  {
   "cell_type": "markdown",
   "metadata": {},
   "source": [
    "## 5. TensorFlow Model Implementation"
   ]
  },
  {
   "cell_type": "code",
   "execution_count": 4,
   "metadata": {
    "deletable": false
   },
   "outputs": [],
   "source": [
    "model = Sequential(\n",
    "    [\n",
    "        tf.keras.Input(shape=(400,)),  # type: ignore\n",
    "        Dense(units=20, activation=\"relu\", name=\"L1\"),\n",
    "        Dense(units=16, activation=\"relu\", name=\"L2\"),\n",
    "        Dense(units=11, activation=\"linear\", name=\"L3\"),\n",
    "    ],\n",
    "    name=\"ndv_model\",\n",
    ")"
   ]
  },
  {
   "cell_type": "code",
   "execution_count": null,
   "metadata": {
    "deletable": false,
    "editable": false
   },
   "outputs": [],
   "source": [
    "model.summary()"
   ]
  },
  {
   "cell_type": "markdown",
   "metadata": {},
   "source": [
    "This is where the softmax activation function is applied:"
   ]
  },
  {
   "cell_type": "code",
   "execution_count": null,
   "metadata": {
    "deletable": false,
    "editable": false,
    "scrolled": true
   },
   "outputs": [],
   "source": [
    "model.compile(\n",
    "    loss=tf.keras.losses.SparseCategoricalCrossentropy(from_logits=True),  # type: ignore\n",
    "    optimizer=tf.keras.optimizers.Adam(learning_rate=0.001),  # type: ignore\n",
    ")\n",
    "\n",
    "history = model.fit(X, y, epochs=45)"
   ]
  },
  {
   "cell_type": "code",
   "execution_count": 6,
   "metadata": {},
   "outputs": [],
   "source": [
    "model_name = \"ndv_model\"\n",
    "model.save(f\"{model_name}.keras\")"
   ]
  },
  {
   "cell_type": "code",
   "execution_count": 13,
   "metadata": {},
   "outputs": [],
   "source": [
    "model = tf.keras.models.load_model(f\"{model_name}.keras\")  # type: ignore"
   ]
  },
  {
   "cell_type": "code",
   "execution_count": 14,
   "metadata": {},
   "outputs": [],
   "source": [
    "[L1, L2, L3] = model.layers\n",
    "\n",
    "W1, b1 = L1.get_weights()\n",
    "W2, b2 = L2.get_weights()\n",
    "W3, b3 = L3.get_weights()"
   ]
  },
  {
   "cell_type": "code",
   "execution_count": null,
   "metadata": {},
   "outputs": [],
   "source": [
    "np.set_printoptions(threshold=np.inf) # type: ignore\n",
    "\n",
    "print(W1)"
   ]
  },
  {
   "cell_type": "code",
   "execution_count": null,
   "metadata": {
    "deletable": false,
    "editable": false
   },
   "outputs": [],
   "source": [
    "plot_loss_tf(history)"
   ]
  },
  {
   "cell_type": "markdown",
   "metadata": {},
   "source": [
    "## 6. Making Predictions\n",
    "\n",
    "To make a prediction, we will use the model `predict` method. Below, `X[0]` contains an image of a seven."
   ]
  },
  {
   "cell_type": "code",
   "execution_count": null,
   "metadata": {
    "deletable": false,
    "editable": false
   },
   "outputs": [],
   "source": [
    "image_of_seven = X[0]\n",
    "\n",
    "display_digit(image_of_seven)\n",
    "\n",
    "prediction = model.predict(image_of_seven.reshape(1, 400))\n",
    "\n",
    "print(f\"Predicting a 'Seven': {prediction}\")\n",
    "print(f\"Largest prediction index: {np.argmax(prediction)}\")"
   ]
  },
  {
   "cell_type": "markdown",
   "metadata": {},
   "source": [
    "The largest output is prediction[7], indicating the predicted digit is a `7`. If the problem only requires a selection, that is sufficient. Use NumPy `argmax` to select it. If the problem requires a probability, a softmax is required:"
   ]
  },
  {
   "cell_type": "code",
   "execution_count": null,
   "metadata": {
    "deletable": false,
    "editable": false
   },
   "outputs": [],
   "source": [
    "prediction_prb = tf.nn.softmax(prediction)\n",
    "probabilities = \" \".join([f\"{prob:2.3f}\" for prob in prediction_prb[0]])\n",
    "\n",
    "print(f\"Predicting a 'Seven' probability vector: {probabilities}\")\n",
    "print(f\"Total of predictions: {np.sum(prediction_prb):0.3f}\")"
   ]
  },
  {
   "cell_type": "code",
   "execution_count": null,
   "metadata": {
    "deletable": false,
    "editable": false
   },
   "outputs": [],
   "source": [
    "yhat = np.argmax(prediction_prb)\n",
    "print(f\"np.argmax(prediction_prb): {yhat}\")"
   ]
  },
  {
   "cell_type": "markdown",
   "metadata": {},
   "source": [
    "Let's compare the predictions `vs` the labels for a random sample of 8 digits."
   ]
  },
  {
   "cell_type": "code",
   "execution_count": null,
   "metadata": {
    "deletable": false,
    "editable": false
   },
   "outputs": [],
   "source": [
    "m, n = X.shape\n",
    "\n",
    "fig, axes = plt.subplots(2, 4, figsize=(10, 5))\n",
    "fig.tight_layout(pad=1)\n",
    "\n",
    "for i, ax in enumerate(axes.flat):\n",
    "    random_index = np.random.randint(m)\n",
    "\n",
    "    X_random_reshaped = X[random_index].reshape((20, 20))\n",
    "\n",
    "    ax.imshow(X_random_reshaped, cmap='gray')\n",
    "\n",
    "    prediction = model.predict(X[random_index].reshape(1, 400))\n",
    "    prediction_prb = tf.nn.softmax(prediction)\n",
    "    yhat = np.argmax(prediction_prb)\n",
    "\n",
    "    ax.set_title(f\"{y[random_index]}, {yhat} -> {np.max(prediction_prb)*100:2.3f}%\", fontsize=10)\n",
    "    ax.set_axis_off()\n",
    "\n",
    "plt.show()"
   ]
  },
  {
   "cell_type": "code",
   "execution_count": null,
   "metadata": {
    "deletable": false,
    "editable": false
   },
   "outputs": [],
   "source": [
    "print(f\"{display_errors(model, X, y, True)} errors out of {len(X)} images\")"
   ]
  },
  {
   "cell_type": "markdown",
   "metadata": {},
   "source": [
    "<br />\n",
    "\n",
    "## Thanks for making it this far! Not everyone does!\n",
    "\n",
    "Now that you understand how we trained this model, feel free to check the other sections to see how we built and simulated this neural digit visualizer!"
   ]
  }
 ],
 "metadata": {
  "dl_toc_settings": {
   "rndtag": "89367"
  },
  "kernelspec": {
   "display_name": "TFVenv",
   "language": "python",
   "name": "python3"
  },
  "language_info": {
   "codemirror_mode": {
    "name": "ipython",
    "version": 3
   },
   "file_extension": ".py",
   "mimetype": "text/x-python",
   "name": "python",
   "nbconvert_exporter": "python",
   "pygments_lexer": "ipython3",
   "version": "3.12.6"
  }
 },
 "nbformat": 4,
 "nbformat_minor": 4
}
